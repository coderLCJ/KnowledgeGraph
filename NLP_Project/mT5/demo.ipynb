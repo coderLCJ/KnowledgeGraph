{
 "cells": [
  {
   "cell_type": "code",
   "execution_count": 29,
   "id": "dbc79c72-fdea-4309-a65c-ae061744cd10",
   "metadata": {
    "tags": []
   },
   "outputs": [],
   "source": [
    "from transformers import T5ForConditionalGeneration, T5Tokenizer\n",
    "tokenizer = T5Tokenizer.from_pretrained(\"/Users/xxx/Desktop/Github/Model/prompt-t5-base-chinese\")\n",
    "model = T5ForConditionalGeneration.from_pretrained(\"/Users/xxx/Desktop/Github/Model/prompt-t5-base-chinese\")\n",
    "def batch_generate(input_texts, max_length=64):\n",
    "    features = tokenizer(input_texts, return_tensors='pt')\n",
    "    outputs = model.generate(input_ids=features['input_ids'],\n",
    "                             attention_mask=features['attention_mask'],\n",
    "                             max_length=max_length)\n",
    "    return tokenizer.batch_decode(outputs, skip_special_tokens=True)"
   ]
  },
  {
   "cell_type": "code",
   "execution_count": 35,
   "id": "050d3156-c61a-4ff0-9515-8daac9ec65d5",
   "metadata": {
    "tags": []
   },
   "outputs": [
    {
     "name": "stdout",
     "output_type": "stream",
     "text": [
      "['让人们遵守交通规律，警察叔叔不分昼夜在忙碌。']\n"
     ]
    }
   ],
   "source": [
    "text = '''\n",
    "中文改错：让人们遵守交通规律，警查叔叔不分昼夜在忙碌。\n",
    "'''\n",
    "r = batch_generate([text])\n",
    "print(r)"
   ]
  }
 ],
 "metadata": {
  "kernelspec": {
   "display_name": "Python 3 (ipykernel)",
   "language": "python",
   "name": "python3"
  },
  "language_info": {
   "codemirror_mode": {
    "name": "ipython",
    "version": 3
   },
   "file_extension": ".py",
   "mimetype": "text/x-python",
   "name": "python",
   "nbconvert_exporter": "python",
   "pygments_lexer": "ipython3",
   "version": "3.9.16"
  }
 },
 "nbformat": 4,
 "nbformat_minor": 5
}

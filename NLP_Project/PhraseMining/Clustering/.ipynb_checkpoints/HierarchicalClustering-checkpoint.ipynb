{
 "cells": [
  {
   "cell_type": "code",
   "execution_count": 30,
   "id": "73a01742-685e-42d0-b26e-a747d38f3494",
   "metadata": {
    "tags": []
   },
   "outputs": [
    {
     "name": "stderr",
     "output_type": "stream",
     "text": [
      "The tokenizer class you load from this checkpoint is not the same type as the class this function is called from. It may result in unexpected tokenization. \n",
      "The tokenizer class you load from this checkpoint is 'RobertaTokenizer'. \n",
      "The class this function is called from is 'BertTokenizer'.\n",
      "Some weights of the model checkpoint at /Users/Laity/Desktop/Github/Model/chinese_roberta_wwm_ext_pytorch were not used when initializing BertModel: ['cls.seq_relationship.weight', 'cls.predictions.transform.LayerNorm.bias', 'cls.predictions.transform.dense.bias', 'cls.predictions.transform.LayerNorm.weight', 'cls.seq_relationship.bias', 'cls.predictions.transform.dense.weight', 'cls.predictions.decoder.weight', 'cls.predictions.bias']\n",
      "- This IS expected if you are initializing BertModel from the checkpoint of a model trained on another task or with another architecture (e.g. initializing a BertForSequenceClassification model from a BertForPreTraining model).\n",
      "- This IS NOT expected if you are initializing BertModel from the checkpoint of a model that you expect to be exactly identical (initializing a BertForSequenceClassification model from a BertForSequenceClassification model).\n"
     ]
    }
   ],
   "source": [
    "from transformers import BertTokenizer, BertModel\n",
    "import torch\n",
    "tokenizer = BertTokenizer.from_pretrained(\"/Users/Laity/Desktop/Github/Model/chinese_roberta_wwm_ext_pytorch\")\n",
    "model = BertModel.from_pretrained(\"/Users/Laity/Desktop/Github/Model/chinese_roberta_wwm_ext_pytorch\")"
   ]
  },
  {
   "cell_type": "code",
   "execution_count": 31,
   "id": "1789bbc0-e282-48d1-a08e-8e79d2a1ad69",
   "metadata": {
    "tags": []
   },
   "outputs": [],
   "source": [
    "data = open('../data/AutoPhrase_multi-words.txt', 'r').readlines()"
   ]
  },
  {
   "cell_type": "code",
   "execution_count": 32,
   "id": "2a3ca832-1b4f-4219-845e-e047914ecef1",
   "metadata": {
    "tags": []
   },
   "outputs": [],
   "source": [
    "train_data = {'word': [], 'embedding': []}\n",
    "for word in data:\n",
    "    train_data['word'].append(''.join(word.split()[1:]))"
   ]
  },
  {
   "cell_type": "code",
   "execution_count": 33,
   "id": "f4d3c6b4-1c63-42d6-850f-c0b2e9bdc2f4",
   "metadata": {
    "tags": []
   },
   "outputs": [
    {
     "name": "stderr",
     "output_type": "stream",
     "text": [
      "100%|███████████████████████████████████████| 1254/1254 [00:56<00:00, 22.22it/s]\n"
     ]
    }
   ],
   "source": [
    "from tqdm import tqdm\n",
    "from sklearn.cluster import AgglomerativeClustering\n",
    "import pandas as pd\n",
    "import torch\n",
    "\n",
    "for text in tqdm(train_data['word']):\n",
    "    inputs = tokenizer.encode(text, return_tensors='pt')\n",
    "    embedding = torch.sum(model(inputs)['last_hidden_state'][0][1:-1], axis=0)/len(text)\n",
    "    train_data['embedding'].append(embedding.detach().numpy())"
   ]
  },
  {
   "cell_type": "code",
   "execution_count": 34,
   "id": "f15a3bfa-2c95-4cf6-91b1-9f04215e1b8b",
   "metadata": {
    "tags": []
   },
   "outputs": [],
   "source": [
    "train_df = pd.DataFrame(train_data)"
   ]
  },
  {
   "cell_type": "code",
   "execution_count": 112,
   "id": "ed3a8aba-e609-47a0-a3a5-da5cf6a19806",
   "metadata": {
    "tags": []
   },
   "outputs": [],
   "source": [
    "model = AgglomerativeClustering(distance_threshold=0.1, n_clusters=None, metric='cosine', linkage='average')\n",
    "res = model.fit(list(train_df['embedding'].values))"
   ]
  },
  {
   "cell_type": "code",
   "execution_count": 113,
   "id": "6dbe4a1c-fd35-4db7-83e9-f58b99a16cda",
   "metadata": {
    "tags": []
   },
   "outputs": [],
   "source": [
    "train_df['label'] = model.labels_"
   ]
  },
  {
   "cell_type": "code",
   "execution_count": null,
   "id": "c1ec29da-95a3-4f98-b4f8-15a06d8429ed",
   "metadata": {},
   "outputs": [],
   "source": [
    "train_df_save = train_df.drop(['embedding'], axis=1)"
   ]
  },
  {
   "cell_type": "code",
   "execution_count": null,
   "id": "a7808a61-797a-42d4-8a26-1e2531794c25",
   "metadata": {},
   "outputs": [],
   "source": [
    "train_df_save.sort_values(by=['label']).to_csv('reslut.csv')"
   ]
  },
  {
   "cell_type": "code",
   "execution_count": null,
   "id": "945148ff-d227-49ef-bbcd-e043c3245c6b",
   "metadata": {},
   "outputs": [],
   "source": [
    "flag = {}\n",
    "for i in (model.labels_):\n",
    "    if i not in flag and len(train_df_save[train_df_save['label']==i]) > 1:\n",
    "        print(train_df_save[train_df_save['label']==i])\n",
    "        print('='*20) \n",
    "        flag[i] = 1"
   ]
  },
  {
   "cell_type": "code",
   "execution_count": 132,
   "id": "c856456e-39c1-4e3d-9bbf-40cce6fd9ebf",
   "metadata": {
    "tags": []
   },
   "outputs": [
    {
     "data": {
      "text/plain": [
       "array([[0.9269953]], dtype=float32)"
      ]
     },
     "execution_count": 132,
     "metadata": {},
     "output_type": "execute_result"
    }
   ],
   "source": [
    "from sklearn.metrics.pairwise import cosine_similarity\n",
    "a = train_df[train_df['word']=='大方时尚']['embedding'].values\n",
    "b = train_df[train_df['word']=='时尚大气']['embedding'].values\n",
    "cosine_similarity(a[0].reshape(1, -1), b[0].reshape(1, -1))"
   ]
  },
  {
   "cell_type": "code",
   "execution_count": 133,
   "id": "e737f62e-5a0d-4b6c-98bf-2bbafa58fe12",
   "metadata": {},
   "outputs": [
    {
     "data": {
      "text/plain": [
       "array([[0.99999964, 0.92699546],\n",
       "       [0.92699546, 1.0000002 ]], dtype=float32)"
      ]
     },
     "execution_count": 133,
     "metadata": {},
     "output_type": "execute_result"
    }
   ],
   "source": [
    "from sklearn.metrics.pairwise import cosine_similarity\n",
    "a = train_df[train_df['word']=='大方时尚']['embedding'].values\n",
    "b = train_df[train_df['word']=='时尚大气']['embedding'].values\n",
    "cosine_similarity([a[0], b[0]])"
   ]
  },
  {
   "cell_type": "code",
   "execution_count": null,
   "id": "0cb6b587-f738-4836-8986-22d878648a84",
   "metadata": {},
   "outputs": [],
   "source": []
  }
 ],
 "metadata": {
  "kernelspec": {
   "display_name": "Python 3 (ipykernel)",
   "language": "python",
   "name": "python3"
  },
  "language_info": {
   "codemirror_mode": {
    "name": "ipython",
    "version": 3
   },
   "file_extension": ".py",
   "mimetype": "text/x-python",
   "name": "python",
   "nbconvert_exporter": "python",
   "pygments_lexer": "ipython3",
   "version": "3.9.16"
  }
 },
 "nbformat": 4,
 "nbformat_minor": 5
}
